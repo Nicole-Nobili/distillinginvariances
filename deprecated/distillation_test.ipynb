{
 "cells": [
  {
   "cell_type": "code",
   "execution_count": 1,
   "metadata": {},
   "outputs": [],
   "source": [
    "import torch\n",
    "import torchvision\n",
    "import torchvision.transforms as transforms\n",
    "from torch.utils.data import DataLoader\n",
    "from models.cnn import SimpleCNN, LeNet\n",
    "from models.mlp import MLP"
   ]
  },
  {
   "cell_type": "code",
   "execution_count": 2,
   "metadata": {},
   "outputs": [],
   "source": [
    "in_channels = 1\n",
    "num_classes = 10\n",
    "num_conv_layers = 2\n",
    "temperature = 1\n",
    "num_epochs = 10\n",
    "batch_size = 64\n",
    "lr = 0.001\n",
    "save_path_folder = 'saved_models/model'"
   ]
  },
  {
   "cell_type": "code",
   "execution_count": null,
   "metadata": {},
   "outputs": [],
   "source": [
    "#Load CNN\n",
    "model = SimpleCNN(in_channels=in_channels, num_classes=num_classes, num_conv_layers=num_conv_layers, temperature=temperature).to('cuda:0')\n",
    "criterion = torch.nn.CrossEntropyLoss()\n",
    "optimizer = torch.optim.Adam(model.parameters(), lr=lr)"
   ]
  },
  {
   "cell_type": "code",
   "execution_count": 3,
   "metadata": {},
   "outputs": [],
   "source": [
    "# MNIST dataset\n",
    "transform = transforms.Compose([transforms.ToTensor(), transforms.Normalize((0.5,), (0.5,))])\n",
    "train_dataset = torchvision.datasets.MNIST(root='./data', train=True, transform=transform, download=True)\n",
    "test_dataset = torchvision.datasets.MNIST(root='./data', train=False, transform=transform, download=True)\n",
    "\n",
    "train_loader = DataLoader(dataset=train_dataset, batch_size=batch_size, shuffle=True)\n",
    "test_loader = DataLoader(dataset=test_dataset, batch_size=batch_size, shuffle=False)"
   ]
  },
  {
   "cell_type": "code",
   "execution_count": null,
   "metadata": {},
   "outputs": [],
   "source": [
    "# model training\n",
    "for epoch in range(num_epochs):\n",
    "    for i, (images, labels) in enumerate(train_loader):\n",
    "        outputs = model(images.to('cuda'))\n",
    "        loss = criterion(outputs, labels.to('cuda'))\n",
    "\n",
    "        optimizer.zero_grad()\n",
    "        loss.backward()\n",
    "        optimizer.step()\n",
    "\n",
    "        if (i + 1) % 100 == 0:\n",
    "            print(f'Epoch [{epoch+1}/{num_epochs}], Step [{i+1}/{len(train_loader)}], Loss: {loss.item():.4f}')\n",
    "# Save the trained model\n",
    "torch.save(model.state_dict(), save_path_folder)\n",
    "print(f\"Model saved as {save_path_folder}!\")"
   ]
  },
  {
   "cell_type": "code",
   "execution_count": null,
   "metadata": {},
   "outputs": [],
   "source": [
    "torch.save(model.state_dict(), 'saved_models/model')"
   ]
  },
  {
   "cell_type": "code",
   "execution_count": null,
   "metadata": {},
   "outputs": [],
   "source": [
    "state_dict = torch.load(save_path_folder)\n",
    "model = SimpleCNN(in_channels=in_channels, num_classes=num_classes, num_conv_layers=num_conv_layers, temperature=temperature).to('cuda:0')\n",
    "model.load_state_dict(state_dict=state_dict)"
   ]
  },
  {
   "cell_type": "code",
   "execution_count": null,
   "metadata": {},
   "outputs": [],
   "source": [
    "# Testing the model\n",
    "model.eval()\n",
    "with torch.no_grad():\n",
    "    correct = 0\n",
    "    total = 0\n",
    "    for images, labels in test_loader:\n",
    "        outputs = model(images.to('cuda'))\n",
    "        _, predicted = torch.max(outputs.data, 1)\n",
    "        total += labels.size(0)\n",
    "        correct += (predicted == labels.to('cuda')).sum().item()\n",
    "\n",
    "    accuracy = correct / total\n",
    "    print(f'Test Accuracy: {accuracy:.4f}')"
   ]
  },
  {
   "cell_type": "code",
   "execution_count": null,
   "metadata": {},
   "outputs": [],
   "source": [
    "# MNIST dataset\n",
    "transform = transforms.Compose([transforms.ToTensor(), transforms.Normalize((0.5,), (0.5,)), transforms.Lambda(lambda x: x.view(-1))])\n",
    "train_dataset = torchvision.datasets.MNIST(root='./data', train=True, transform=transform, download=True)\n",
    "test_dataset = torchvision.datasets.MNIST(root='./data', train=False, transform=transform, download=True)\n",
    "\n",
    "train_loader = DataLoader(dataset=train_dataset, batch_size=batch_size, shuffle=True)\n",
    "test_loader = DataLoader(dataset=test_dataset, batch_size=batch_size, shuffle=False)"
   ]
  },
  {
   "cell_type": "code",
   "execution_count": null,
   "metadata": {},
   "outputs": [],
   "source": [
    "mlp = MLP(input_dim = 784, output_dim= num_classes, hidden_size= 2048, hidden_layers= 4, device='cuda')"
   ]
  },
  {
   "cell_type": "code",
   "execution_count": null,
   "metadata": {},
   "outputs": [],
   "source": [
    "criterion = torch.nn.CrossEntropyLoss()\n",
    "optimizer = torch.optim.Adam(mlp.parameters(), lr=lr)\n",
    "mlp.train(train_loader=train_loader, optimizer=optimizer, criterion=criterion, num_epochs=5)"
   ]
  },
  {
   "cell_type": "code",
   "execution_count": null,
   "metadata": {},
   "outputs": [],
   "source": [
    "mlp.eval(test_loader=test_loader)"
   ]
  },
  {
   "cell_type": "code",
   "execution_count": null,
   "metadata": {},
   "outputs": [],
   "source": [
    "from models.mlp import MLP\n",
    "mlp = MLP(input_dim = 784, output_dim= num_classes, hidden_size= 2048, hidden_layers= 4, device='cuda', from_saved_state_dict=\"saved_models/mlp\")\n",
    "mlp.eval(test_loader=test_loader)"
   ]
  },
  {
   "cell_type": "code",
   "execution_count": 4,
   "metadata": {},
   "outputs": [],
   "source": [
    "save_path_folder = \"saved_models\\model\""
   ]
  },
  {
   "cell_type": "code",
   "execution_count": 10,
   "metadata": {},
   "outputs": [
    {
     "name": "stdout",
     "output_type": "stream",
     "text": [
      "Not using softmax\n"
     ]
    },
    {
     "data": {
      "text/plain": [
       "<All keys matched successfully>"
      ]
     },
     "execution_count": 10,
     "metadata": {},
     "output_type": "execute_result"
    }
   ],
   "source": [
    "mlp_student = MLP(input_dim = 784, output_dim= num_classes, hidden_size= 2048, hidden_layers= 4, device='cuda')\n",
    "state_dict = torch.load(save_path_folder)\n",
    "model_teacher = SimpleCNN(in_channels=in_channels, num_classes=num_classes, num_conv_layers=num_conv_layers, temperature=temperature).to('cuda:0')\n",
    "model_teacher.load_state_dict(state_dict=state_dict)\n",
    "#state_dict = torch.load(\"saved_models/distiller\")\n",
    "#mlp_student.load_state_dict(state_dict=state_dict)"
   ]
  },
  {
   "cell_type": "code",
   "execution_count": 6,
   "metadata": {},
   "outputs": [],
   "source": [
    "from distillation_utils import Distiller\n",
    "distiller = Distiller(student=mlp_student, teacher=model_teacher, device='cuda', lr=0.001, load_student_from_path = 'saved_models/distiller')"
   ]
  },
  {
   "cell_type": "code",
   "execution_count": 11,
   "metadata": {},
   "outputs": [],
   "source": [
    "from distillation_utils import Distiller\n",
    "distiller = Distiller(student=mlp_student, teacher=model_teacher, device='cuda', lr=0.001)"
   ]
  },
  {
   "cell_type": "code",
   "execution_count": 12,
   "metadata": {},
   "outputs": [
    {
     "name": "stdout",
     "output_type": "stream",
     "text": [
      "Epoch [1/5], Step [100/938], Student Loss : 0.8781, Total Loss: -29.8506\n",
      "Epoch [1/5], Step [200/938], Student Loss : 0.6724, Total Loss: -29.9157\n",
      "Epoch [1/5], Step [300/938], Student Loss : 0.5258, Total Loss: -30.0003\n",
      "Epoch [1/5], Step [400/938], Student Loss : 0.4998, Total Loss: -29.9974\n",
      "Epoch [1/5], Step [500/938], Student Loss : 0.5316, Total Loss: -30.0190\n",
      "Epoch [1/5], Step [600/938], Student Loss : 0.5330, Total Loss: -30.0127\n",
      "Epoch [1/5], Step [700/938], Student Loss : 0.5118, Total Loss: -29.9997\n",
      "Epoch [1/5], Step [800/938], Student Loss : 0.5368, Total Loss: -29.9960\n",
      "Epoch [1/5], Step [900/938], Student Loss : 0.5102, Total Loss: -29.9583\n",
      "Epoch [2/5], Step [100/938], Student Loss : 0.5081, Total Loss: -29.9777\n",
      "Epoch [2/5], Step [200/938], Student Loss : 0.3899, Total Loss: -30.0113\n",
      "Epoch [2/5], Step [300/938], Student Loss : 0.4097, Total Loss: -30.0319\n",
      "Epoch [2/5], Step [400/938], Student Loss : 0.4769, Total Loss: -29.9935\n",
      "Epoch [2/5], Step [500/938], Student Loss : 0.3679, Total Loss: -30.0398\n",
      "Epoch [2/5], Step [600/938], Student Loss : 0.5140, Total Loss: -30.0052\n",
      "Epoch [2/5], Step [700/938], Student Loss : 0.4805, Total Loss: -30.0051\n",
      "Epoch [2/5], Step [800/938], Student Loss : 0.3817, Total Loss: -30.0359\n",
      "Epoch [2/5], Step [900/938], Student Loss : 0.5015, Total Loss: -29.9953\n",
      "Epoch [3/5], Step [100/938], Student Loss : 0.4866, Total Loss: -30.0048\n",
      "Epoch [3/5], Step [200/938], Student Loss : 0.3984, Total Loss: -30.0315\n",
      "Epoch [3/5], Step [300/938], Student Loss : 0.3505, Total Loss: -30.0499\n",
      "Epoch [3/5], Step [400/938], Student Loss : 0.3518, Total Loss: -30.0678\n",
      "Epoch [3/5], Step [500/938], Student Loss : 0.3760, Total Loss: -30.0483\n",
      "Epoch [3/5], Step [600/938], Student Loss : 0.3632, Total Loss: -30.0373\n",
      "Epoch [3/5], Step [700/938], Student Loss : 0.4945, Total Loss: -29.9916\n",
      "Epoch [3/5], Step [800/938], Student Loss : 0.5055, Total Loss: -29.9999\n",
      "Epoch [3/5], Step [900/938], Student Loss : 0.3566, Total Loss: -30.0462\n",
      "Epoch [4/5], Step [100/938], Student Loss : 0.4379, Total Loss: -30.0055\n",
      "Epoch [4/5], Step [200/938], Student Loss : 0.3666, Total Loss: -30.0423\n",
      "Epoch [4/5], Step [300/938], Student Loss : 0.4439, Total Loss: -29.9951\n",
      "Epoch [4/5], Step [400/938], Student Loss : 0.4232, Total Loss: -30.0340\n",
      "Epoch [4/5], Step [500/938], Student Loss : 0.3524, Total Loss: -30.0542\n",
      "Epoch [4/5], Step [600/938], Student Loss : 0.3754, Total Loss: -30.0465\n",
      "Epoch [4/5], Step [700/938], Student Loss : 0.4039, Total Loss: -30.0232\n",
      "Epoch [4/5], Step [800/938], Student Loss : 0.5066, Total Loss: -30.0005\n",
      "Epoch [4/5], Step [900/938], Student Loss : 0.4219, Total Loss: -30.0135\n",
      "Epoch [5/5], Step [100/938], Student Loss : 0.3583, Total Loss: -30.0519\n",
      "Epoch [5/5], Step [200/938], Student Loss : 0.3995, Total Loss: -30.0276\n",
      "Epoch [5/5], Step [300/938], Student Loss : 0.5582, Total Loss: -29.9707\n",
      "Epoch [5/5], Step [400/938], Student Loss : 0.4365, Total Loss: -30.0036\n",
      "Epoch [5/5], Step [500/938], Student Loss : 0.3530, Total Loss: -30.0506\n",
      "Epoch [5/5], Step [600/938], Student Loss : 0.4608, Total Loss: -30.0152\n",
      "Epoch [5/5], Step [700/938], Student Loss : 0.2745, Total Loss: -30.0878\n",
      "Epoch [5/5], Step [800/938], Student Loss : 0.2956, Total Loss: -30.0880\n",
      "Epoch [5/5], Step [900/938], Student Loss : 0.3936, Total Loss: -30.0325\n",
      "Student loss: 0.44832175638940597\n",
      "Distillation loss: -30.014789411756727\n",
      "Total loss: -30.014789411756727\n",
      "saved model\n"
     ]
    }
   ],
   "source": [
    "distiller.distill(train_loader, 5, \"saved_models/\")"
   ]
  },
  {
   "cell_type": "code",
   "execution_count": 13,
   "metadata": {},
   "outputs": [
    {
     "name": "stdout",
     "output_type": "stream",
     "text": [
      "Test Accuracy: 0.9688\n"
     ]
    }
   ],
   "source": [
    "distiller.test_step(test_loader=test_loader)"
   ]
  },
  {
   "cell_type": "code",
   "execution_count": 8,
   "metadata": {},
   "outputs": [
    {
     "name": "stdout",
     "output_type": "stream",
     "text": [
      "Not using softmax\n",
      "a\n",
      "Test Accuracy: 0.9704\n"
     ]
    }
   ],
   "source": [
    "t = MLP(input_dim = 784, output_dim= num_classes, hidden_size= 2048, hidden_layers= 4, device='cuda')\n",
    "s = torch.load('saved_models/mlp')\n",
    "t.load_state_dict(s)\n",
    "t.eval(test_loader)"
   ]
  },
  {
   "cell_type": "code",
   "execution_count": null,
   "metadata": {},
   "outputs": [],
   "source": [
    "for x,y in test_loader:\n",
    "    print( x.shape)"
   ]
  }
 ],
 "metadata": {
  "kernelspec": {
   "display_name": "Python 3",
   "language": "python",
   "name": "python3"
  },
  "language_info": {
   "codemirror_mode": {
    "name": "ipython",
    "version": 3
   },
   "file_extension": ".py",
   "mimetype": "text/x-python",
   "name": "python",
   "nbconvert_exporter": "python",
   "pygments_lexer": "ipython3",
   "version": "3.10.6"
  }
 },
 "nbformat": 4,
 "nbformat_minor": 2
}
