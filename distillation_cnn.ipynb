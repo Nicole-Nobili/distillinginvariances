{
 "cells": [
  {
   "cell_type": "code",
   "execution_count": 9,
   "metadata": {},
   "outputs": [],
   "source": [
    "#imports\n",
    "import torch\n",
    "import torchvision\n",
    "import torchvision.transforms as transforms\n",
    "from torch.utils.data import DataLoader\n",
    "from models.cnn import SimpleCNN\n",
    "from models.mlp import MLP\n",
    "from distillation_utils import Distiller\n",
    "from invariances_utils import shift_preserving_shape\n",
    "import numpy as np\n"
   ]
  },
  {
   "cell_type": "code",
   "execution_count": 10,
   "metadata": {},
   "outputs": [],
   "source": [
    "in_channels = 1\n",
    "num_classes = 10\n",
    "num_conv_layers = 2\n",
    "temperature = 1\n",
    "num_epochs = 10\n",
    "batch_size = 64\n",
    "lr = 0.001\n",
    "TRAIN = False\n",
    "device = 'cuda'\n",
    "#np.random.seed(42)"
   ]
  },
  {
   "cell_type": "code",
   "execution_count": 11,
   "metadata": {},
   "outputs": [],
   "source": [
    "# MNIST dataset\n",
    "transform = transforms.Compose([transforms.ToTensor(), transforms.Normalize((0.5,), (0.5,))])\n",
    "train_dataset = torchvision.datasets.MNIST(root='./data', train=True, transform=transform, download=True)\n",
    "test_dataset = torchvision.datasets.MNIST(root='./data', train=False, transform=transform, download=True)\n",
    "\n",
    "train_loader = DataLoader(dataset=train_dataset, batch_size=batch_size, shuffle=True)\n",
    "test_loader = DataLoader(dataset=test_dataset, batch_size=batch_size, shuffle=False)"
   ]
  },
  {
   "cell_type": "code",
   "execution_count": 12,
   "metadata": {},
   "outputs": [
    {
     "name": "stdout",
     "output_type": "stream",
     "text": [
      "Test Accuracy: 0.9914\n"
     ]
    }
   ],
   "source": [
    "#Obtaining CNN\n",
    "cnn_path = \"saved_models/model\"\n",
    "cnn = SimpleCNN(in_channels=in_channels, num_classes=num_classes, num_conv_layers=num_conv_layers, temperature=temperature).to('cuda:0')\n",
    "if TRAIN:\n",
    "    criterion_cnn = torch.nn.CrossEntropyLoss()\n",
    "    optimizer_cnn = torch.optim.Adam(cnn.parameters(), lr=lr)\n",
    "    # model training\n",
    "    for epoch in range(num_epochs):\n",
    "        for i, (images, labels) in enumerate(train_loader):\n",
    "            outputs = cnn(images.to('cuda'))\n",
    "            loss = criterion_cnn(outputs, labels.to('cuda'))\n",
    "\n",
    "            optimizer_cnn.zero_grad()\n",
    "            loss.backward()\n",
    "            optimizer_cnn.step()\n",
    "\n",
    "            if (i + 1) % 100 == 0:\n",
    "                print(f'Epoch [{epoch+1}/{num_epochs}], Step [{i+1}/{len(train_loader)}], Loss: {loss.item():.4f}')\n",
    "    # Save the trained model\n",
    "    torch.save(cnn.state_dict(), cnn_path)\n",
    "    print(f\"Model saved as {cnn_path}!\")\n",
    "if not TRAIN:\n",
    "    state_dict = torch.load(cnn_path)\n",
    "    cnn.load_state_dict(state_dict=state_dict)\n",
    "\n",
    "# Testing the model\n",
    "cnn.eval()\n",
    "with torch.no_grad():\n",
    "    correct = 0\n",
    "    total = 0\n",
    "    for images, labels in test_loader:\n",
    "        outputs = cnn(images.to('cuda'))\n",
    "        _, predicted = torch.max(outputs.data, 1)\n",
    "        total += labels.size(0)\n",
    "        correct += (predicted == labels.to('cuda')).sum().item()\n",
    "\n",
    "    accuracy = correct / total\n",
    "    print(f'Test Accuracy: {accuracy:.4f}')"
   ]
  },
  {
   "cell_type": "code",
   "execution_count": 13,
   "metadata": {},
   "outputs": [
    {
     "name": "stdout",
     "output_type": "stream",
     "text": [
      "Not using softmax\n",
      "Test Accuracy: 0.9704\n"
     ]
    }
   ],
   "source": [
    "#Loading undistilled MLP\n",
    "if TRAIN:\n",
    "    mlp = MLP(input_dim = 784, output_dim= num_classes, hidden_size= 2048,\n",
    "        hidden_layers= 4, device='cuda')\n",
    "    criterion_mlp = torch.nn.CrossEntropyLoss()\n",
    "    optimizer_mlp = torch.optim.Adam(mlp.parameters(), lr=lr)\n",
    "    mlp.train(train_loader=train_loader, optimizer=optimizer_mlp, criterion=criterion_mlp, \n",
    "              num_epochs=5)\n",
    "if not TRAIN:\n",
    "    mlp = MLP(input_dim = 784, output_dim= num_classes, hidden_size= 2048,\n",
    "            hidden_layers= 4, device='cuda', from_saved_state_dict=\"saved_models/mlp\")\n",
    "mlp.eval(test_loader=test_loader)"
   ]
  },
  {
   "cell_type": "code",
   "execution_count": 14,
   "metadata": {},
   "outputs": [
    {
     "name": "stdout",
     "output_type": "stream",
     "text": [
      "Not using softmax\n",
      "Test Accuracy: 0.9688\n"
     ]
    }
   ],
   "source": [
    "#loading distilled MLP\n",
    "mlp_student = MLP(input_dim = 784, output_dim= num_classes, hidden_size= 2048,\n",
    "          hidden_layers= 4, device='cuda')\n",
    "if TRAIN:\n",
    "    distiller = Distiller(student=mlp_student, teacher=cnn, device='cuda', lr=0.001)\n",
    "    distiller.distill(train_loader, 5, \"saved_models/\")\n",
    "if not TRAIN:\n",
    "    distiller = Distiller(student=mlp_student, teacher=cnn, device='cuda', lr=0.001,\n",
    "                        load_student_from_path = 'saved_models/distiller')\n",
    "distiller.test_step(test_loader=test_loader)"
   ]
  },
  {
   "cell_type": "code",
   "execution_count": 15,
   "metadata": {},
   "outputs": [
    {
     "name": "stdout",
     "output_type": "stream",
     "text": [
      "[tensor([50.8540], device='cuda:0', grad_fn=<UnsqueezeBackward0>), tensor([55.7828], device='cuda:0', grad_fn=<UnsqueezeBackward0>), tensor([53.8485], device='cuda:0', grad_fn=<UnsqueezeBackward0>), tensor([49.8548], device='cuda:0', grad_fn=<UnsqueezeBackward0>), tensor([48.7668], device='cuda:0', grad_fn=<UnsqueezeBackward0>), tensor([56.7308], device='cuda:0', grad_fn=<UnsqueezeBackward0>), tensor([48.2267], device='cuda:0', grad_fn=<UnsqueezeBackward0>), tensor([53.7515], device='cuda:0', grad_fn=<UnsqueezeBackward0>), tensor([55.2343], device='cuda:0', grad_fn=<UnsqueezeBackward0>), tensor([57.1900], device='cuda:0', grad_fn=<UnsqueezeBackward0>), tensor([50.1332], device='cuda:0', grad_fn=<UnsqueezeBackward0>), tensor([53.3430], device='cuda:0', grad_fn=<UnsqueezeBackward0>), tensor([51.0499], device='cuda:0', grad_fn=<UnsqueezeBackward0>), tensor([62.9042], device='cuda:0', grad_fn=<UnsqueezeBackward0>), tensor([49.4475], device='cuda:0', grad_fn=<UnsqueezeBackward0>), tensor([55.5788], device='cuda:0', grad_fn=<UnsqueezeBackward0>), tensor([41.3505], device='cuda:0', grad_fn=<UnsqueezeBackward0>), tensor([49.3416], device='cuda:0', grad_fn=<UnsqueezeBackward0>), tensor([48.2135], device='cuda:0', grad_fn=<UnsqueezeBackward0>), tensor([50.0986], device='cuda:0', grad_fn=<UnsqueezeBackward0>), tensor([55.2600], device='cuda:0', grad_fn=<UnsqueezeBackward0>), tensor([50.6712], device='cuda:0', grad_fn=<UnsqueezeBackward0>), tensor([57.9533], device='cuda:0', grad_fn=<UnsqueezeBackward0>), tensor([57.5586], device='cuda:0', grad_fn=<UnsqueezeBackward0>), tensor([51.3481], device='cuda:0', grad_fn=<UnsqueezeBackward0>), tensor([54.5909], device='cuda:0', grad_fn=<UnsqueezeBackward0>), tensor([55.9239], device='cuda:0', grad_fn=<UnsqueezeBackward0>), tensor([51.2108], device='cuda:0', grad_fn=<UnsqueezeBackward0>), tensor([62.8380], device='cuda:0', grad_fn=<UnsqueezeBackward0>), tensor([51.2995], device='cuda:0', grad_fn=<UnsqueezeBackward0>), tensor([52.4621], device='cuda:0', grad_fn=<UnsqueezeBackward0>), tensor([50.9518], device='cuda:0', grad_fn=<UnsqueezeBackward0>), tensor([60.0937], device='cuda:0', grad_fn=<UnsqueezeBackward0>), tensor([51.1698], device='cuda:0', grad_fn=<UnsqueezeBackward0>), tensor([53.7441], device='cuda:0', grad_fn=<UnsqueezeBackward0>), tensor([60.5089], device='cuda:0', grad_fn=<UnsqueezeBackward0>), tensor([51.4106], device='cuda:0', grad_fn=<UnsqueezeBackward0>), tensor([57.2480], device='cuda:0', grad_fn=<UnsqueezeBackward0>), tensor([55.0295], device='cuda:0', grad_fn=<UnsqueezeBackward0>), tensor([59.9177], device='cuda:0', grad_fn=<UnsqueezeBackward0>), tensor([44.4977], device='cuda:0', grad_fn=<UnsqueezeBackward0>), tensor([53.1496], device='cuda:0', grad_fn=<UnsqueezeBackward0>), tensor([55.1227], device='cuda:0', grad_fn=<UnsqueezeBackward0>), tensor([54.8148], device='cuda:0', grad_fn=<UnsqueezeBackward0>), tensor([54.2474], device='cuda:0', grad_fn=<UnsqueezeBackward0>), tensor([58.9031], device='cuda:0', grad_fn=<UnsqueezeBackward0>), tensor([60.7352], device='cuda:0', grad_fn=<UnsqueezeBackward0>), tensor([53.6211], device='cuda:0', grad_fn=<UnsqueezeBackward0>), tensor([50.3877], device='cuda:0', grad_fn=<UnsqueezeBackward0>), tensor([53.7837], device='cuda:0', grad_fn=<UnsqueezeBackward0>), tensor([57.5489], device='cuda:0', grad_fn=<UnsqueezeBackward0>), tensor([57.3996], device='cuda:0', grad_fn=<UnsqueezeBackward0>), tensor([57.7574], device='cuda:0', grad_fn=<UnsqueezeBackward0>), tensor([49.7219], device='cuda:0', grad_fn=<UnsqueezeBackward0>), tensor([55.4642], device='cuda:0', grad_fn=<UnsqueezeBackward0>), tensor([53.9637], device='cuda:0', grad_fn=<UnsqueezeBackward0>), tensor([48.7435], device='cuda:0', grad_fn=<UnsqueezeBackward0>), tensor([49.9623], device='cuda:0', grad_fn=<UnsqueezeBackward0>), tensor([57.8467], device='cuda:0', grad_fn=<UnsqueezeBackward0>), tensor([49.8784], device='cuda:0', grad_fn=<UnsqueezeBackward0>), tensor([57.6379], device='cuda:0', grad_fn=<UnsqueezeBackward0>), tensor([49.8150], device='cuda:0', grad_fn=<UnsqueezeBackward0>), tensor([47.5667], device='cuda:0', grad_fn=<UnsqueezeBackward0>), tensor([54.1357], device='cuda:0', grad_fn=<UnsqueezeBackward0>), tensor([52.8292], device='cuda:0', grad_fn=<UnsqueezeBackward0>), tensor([52.5743], device='cuda:0', grad_fn=<UnsqueezeBackward0>), tensor([56.6126], device='cuda:0', grad_fn=<UnsqueezeBackward0>), tensor([58.5919], device='cuda:0', grad_fn=<UnsqueezeBackward0>), tensor([59.7706], device='cuda:0', grad_fn=<UnsqueezeBackward0>), tensor([50.1915], device='cuda:0', grad_fn=<UnsqueezeBackward0>), tensor([53.0931], device='cuda:0', grad_fn=<UnsqueezeBackward0>), tensor([47.1615], device='cuda:0', grad_fn=<UnsqueezeBackward0>), tensor([54.7817], device='cuda:0', grad_fn=<UnsqueezeBackward0>), tensor([51.1815], device='cuda:0', grad_fn=<UnsqueezeBackward0>), tensor([54.6240], device='cuda:0', grad_fn=<UnsqueezeBackward0>), tensor([56.4396], device='cuda:0', grad_fn=<UnsqueezeBackward0>), tensor([53.3585], device='cuda:0', grad_fn=<UnsqueezeBackward0>), tensor([53.1696], device='cuda:0', grad_fn=<UnsqueezeBackward0>), tensor([60.3068], device='cuda:0', grad_fn=<UnsqueezeBackward0>), tensor([56.1588], device='cuda:0', grad_fn=<UnsqueezeBackward0>), tensor([61.8225], device='cuda:0', grad_fn=<UnsqueezeBackward0>), tensor([58.3590], device='cuda:0', grad_fn=<UnsqueezeBackward0>), tensor([61.6911], device='cuda:0', grad_fn=<UnsqueezeBackward0>), tensor([53.7968], device='cuda:0', grad_fn=<UnsqueezeBackward0>), tensor([54.7874], device='cuda:0', grad_fn=<UnsqueezeBackward0>), tensor([54.5104], device='cuda:0', grad_fn=<UnsqueezeBackward0>), tensor([57.2941], device='cuda:0', grad_fn=<UnsqueezeBackward0>), tensor([58.0490], device='cuda:0', grad_fn=<UnsqueezeBackward0>), tensor([49.4967], device='cuda:0', grad_fn=<UnsqueezeBackward0>), tensor([46.9186], device='cuda:0', grad_fn=<UnsqueezeBackward0>), tensor([54.6268], device='cuda:0', grad_fn=<UnsqueezeBackward0>), tensor([53.0420], device='cuda:0', grad_fn=<UnsqueezeBackward0>), tensor([54.2240], device='cuda:0', grad_fn=<UnsqueezeBackward0>), tensor([48.3557], device='cuda:0', grad_fn=<UnsqueezeBackward0>), tensor([50.8041], device='cuda:0', grad_fn=<UnsqueezeBackward0>), tensor([48.2723], device='cuda:0', grad_fn=<UnsqueezeBackward0>), tensor([50.2743], device='cuda:0', grad_fn=<UnsqueezeBackward0>), tensor([57.4288], device='cuda:0', grad_fn=<UnsqueezeBackward0>), tensor([54.7782], device='cuda:0', grad_fn=<UnsqueezeBackward0>), tensor([54.4383], device='cuda:0', grad_fn=<UnsqueezeBackward0>), tensor([59.2634], device='cuda:0', grad_fn=<UnsqueezeBackward0>), tensor([63.4717], device='cuda:0', grad_fn=<UnsqueezeBackward0>), tensor([52.2740], device='cuda:0', grad_fn=<UnsqueezeBackward0>), tensor([54.7303], device='cuda:0', grad_fn=<UnsqueezeBackward0>), tensor([64.6921], device='cuda:0', grad_fn=<UnsqueezeBackward0>), tensor([58.4479], device='cuda:0', grad_fn=<UnsqueezeBackward0>), tensor([51.9539], device='cuda:0', grad_fn=<UnsqueezeBackward0>), tensor([54.4564], device='cuda:0', grad_fn=<UnsqueezeBackward0>), tensor([59.6268], device='cuda:0', grad_fn=<UnsqueezeBackward0>), tensor([59.5171], device='cuda:0', grad_fn=<UnsqueezeBackward0>), tensor([52.4226], device='cuda:0', grad_fn=<UnsqueezeBackward0>), tensor([63.3265], device='cuda:0', grad_fn=<UnsqueezeBackward0>), tensor([53.2212], device='cuda:0', grad_fn=<UnsqueezeBackward0>), tensor([53.8508], device='cuda:0', grad_fn=<UnsqueezeBackward0>), tensor([55.8061], device='cuda:0', grad_fn=<UnsqueezeBackward0>), tensor([60.4148], device='cuda:0', grad_fn=<UnsqueezeBackward0>), tensor([57.6228], device='cuda:0', grad_fn=<UnsqueezeBackward0>), tensor([63.4943], device='cuda:0', grad_fn=<UnsqueezeBackward0>), tensor([56.4223], device='cuda:0', grad_fn=<UnsqueezeBackward0>), tensor([54.2087], device='cuda:0', grad_fn=<UnsqueezeBackward0>), tensor([52.3358], device='cuda:0', grad_fn=<UnsqueezeBackward0>), tensor([57.9689], device='cuda:0', grad_fn=<UnsqueezeBackward0>), tensor([48.7405], device='cuda:0', grad_fn=<UnsqueezeBackward0>), tensor([55.3848], device='cuda:0', grad_fn=<UnsqueezeBackward0>), tensor([54.4753], device='cuda:0', grad_fn=<UnsqueezeBackward0>), tensor([50.6615], device='cuda:0', grad_fn=<UnsqueezeBackward0>), tensor([54.1070], device='cuda:0', grad_fn=<UnsqueezeBackward0>), tensor([50.9480], device='cuda:0', grad_fn=<UnsqueezeBackward0>), tensor([58.9233], device='cuda:0', grad_fn=<UnsqueezeBackward0>), tensor([60.8346], device='cuda:0', grad_fn=<UnsqueezeBackward0>), tensor([52.3933], device='cuda:0', grad_fn=<UnsqueezeBackward0>), tensor([50.8421], device='cuda:0', grad_fn=<UnsqueezeBackward0>), tensor([56.5500], device='cuda:0', grad_fn=<UnsqueezeBackward0>), tensor([49.3226], device='cuda:0', grad_fn=<UnsqueezeBackward0>), tensor([48.5031], device='cuda:0', grad_fn=<UnsqueezeBackward0>), tensor([53.6574], device='cuda:0', grad_fn=<UnsqueezeBackward0>), tensor([56.7643], device='cuda:0', grad_fn=<UnsqueezeBackward0>), tensor([50.4850], device='cuda:0', grad_fn=<UnsqueezeBackward0>), tensor([59.4641], device='cuda:0', grad_fn=<UnsqueezeBackward0>), tensor([55.6478], device='cuda:0', grad_fn=<UnsqueezeBackward0>), tensor([60.6936], device='cuda:0', grad_fn=<UnsqueezeBackward0>), tensor([55.4940], device='cuda:0', grad_fn=<UnsqueezeBackward0>), tensor([52.0484], device='cuda:0', grad_fn=<UnsqueezeBackward0>), tensor([58.6797], device='cuda:0', grad_fn=<UnsqueezeBackward0>), tensor([63.6614], device='cuda:0', grad_fn=<UnsqueezeBackward0>), tensor([50.5936], device='cuda:0', grad_fn=<UnsqueezeBackward0>), tensor([51.6871], device='cuda:0', grad_fn=<UnsqueezeBackward0>), tensor([64.0673], device='cuda:0', grad_fn=<UnsqueezeBackward0>), tensor([53.2126], device='cuda:0', grad_fn=<UnsqueezeBackward0>), tensor([52.7468], device='cuda:0', grad_fn=<UnsqueezeBackward0>), tensor([61.6772], device='cuda:0', grad_fn=<UnsqueezeBackward0>), tensor([61.5677], device='cuda:0', grad_fn=<UnsqueezeBackward0>), tensor([60.3028], device='cuda:0', grad_fn=<UnsqueezeBackward0>), tensor([61.4730], device='cuda:0', grad_fn=<UnsqueezeBackward0>), tensor([62.1311], device='cuda:0', grad_fn=<UnsqueezeBackward0>), tensor([60.8983], device='cuda:0', grad_fn=<UnsqueezeBackward0>), tensor([12.8226], device='cuda:0', grad_fn=<UnsqueezeBackward0>)]\n"
     ]
    },
    {
     "data": {
      "text/plain": [
       "tensor(8554.4023, device='cuda:0', grad_fn=<SumBackward0>)"
      ]
     },
     "execution_count": 15,
     "metadata": {},
     "output_type": "execute_result"
    }
   ],
   "source": [
    "from invariances_utils import test_IM\n",
    "test_IM(test_loader, mlp)"
   ]
  },
  {
   "cell_type": "code",
   "execution_count": 16,
   "metadata": {},
   "outputs": [
    {
     "name": "stdout",
     "output_type": "stream",
     "text": [
      "[tensor([39.4146], device='cuda:0', grad_fn=<UnsqueezeBackward0>), tensor([39.3120], device='cuda:0', grad_fn=<UnsqueezeBackward0>), tensor([40.5080], device='cuda:0', grad_fn=<UnsqueezeBackward0>), tensor([41.2471], device='cuda:0', grad_fn=<UnsqueezeBackward0>), tensor([39.8635], device='cuda:0', grad_fn=<UnsqueezeBackward0>), tensor([35.3821], device='cuda:0', grad_fn=<UnsqueezeBackward0>), tensor([39.0805], device='cuda:0', grad_fn=<UnsqueezeBackward0>), tensor([41.0281], device='cuda:0', grad_fn=<UnsqueezeBackward0>), tensor([41.0057], device='cuda:0', grad_fn=<UnsqueezeBackward0>), tensor([41.6737], device='cuda:0', grad_fn=<UnsqueezeBackward0>), tensor([41.6637], device='cuda:0', grad_fn=<UnsqueezeBackward0>), tensor([40.4811], device='cuda:0', grad_fn=<UnsqueezeBackward0>), tensor([40.5587], device='cuda:0', grad_fn=<UnsqueezeBackward0>), tensor([45.6170], device='cuda:0', grad_fn=<UnsqueezeBackward0>), tensor([37.3044], device='cuda:0', grad_fn=<UnsqueezeBackward0>), tensor([34.8633], device='cuda:0', grad_fn=<UnsqueezeBackward0>), tensor([37.8000], device='cuda:0', grad_fn=<UnsqueezeBackward0>), tensor([38.8560], device='cuda:0', grad_fn=<UnsqueezeBackward0>), tensor([36.2227], device='cuda:0', grad_fn=<UnsqueezeBackward0>), tensor([41.0904], device='cuda:0', grad_fn=<UnsqueezeBackward0>), tensor([37.7455], device='cuda:0', grad_fn=<UnsqueezeBackward0>), tensor([43.8105], device='cuda:0', grad_fn=<UnsqueezeBackward0>), tensor([42.0884], device='cuda:0', grad_fn=<UnsqueezeBackward0>), tensor([40.7657], device='cuda:0', grad_fn=<UnsqueezeBackward0>), tensor([43.3583], device='cuda:0', grad_fn=<UnsqueezeBackward0>), tensor([35.5750], device='cuda:0', grad_fn=<UnsqueezeBackward0>), tensor([42.3137], device='cuda:0', grad_fn=<UnsqueezeBackward0>), tensor([40.1106], device='cuda:0', grad_fn=<UnsqueezeBackward0>), tensor([37.8038], device='cuda:0', grad_fn=<UnsqueezeBackward0>), tensor([39.4247], device='cuda:0', grad_fn=<UnsqueezeBackward0>), tensor([35.9405], device='cuda:0', grad_fn=<UnsqueezeBackward0>), tensor([37.4776], device='cuda:0', grad_fn=<UnsqueezeBackward0>), tensor([43.4001], device='cuda:0', grad_fn=<UnsqueezeBackward0>), tensor([45.5703], device='cuda:0', grad_fn=<UnsqueezeBackward0>), tensor([38.6110], device='cuda:0', grad_fn=<UnsqueezeBackward0>), tensor([42.2649], device='cuda:0', grad_fn=<UnsqueezeBackward0>), tensor([41.7282], device='cuda:0', grad_fn=<UnsqueezeBackward0>), tensor([40.3307], device='cuda:0', grad_fn=<UnsqueezeBackward0>), tensor([43.7829], device='cuda:0', grad_fn=<UnsqueezeBackward0>), tensor([39.8642], device='cuda:0', grad_fn=<UnsqueezeBackward0>), tensor([39.1125], device='cuda:0', grad_fn=<UnsqueezeBackward0>), tensor([39.7870], device='cuda:0', grad_fn=<UnsqueezeBackward0>), tensor([39.4862], device='cuda:0', grad_fn=<UnsqueezeBackward0>), tensor([41.4015], device='cuda:0', grad_fn=<UnsqueezeBackward0>), tensor([43.3288], device='cuda:0', grad_fn=<UnsqueezeBackward0>), tensor([41.0488], device='cuda:0', grad_fn=<UnsqueezeBackward0>), tensor([38.7728], device='cuda:0', grad_fn=<UnsqueezeBackward0>), tensor([39.2280], device='cuda:0', grad_fn=<UnsqueezeBackward0>), tensor([37.1609], device='cuda:0', grad_fn=<UnsqueezeBackward0>), tensor([43.4048], device='cuda:0', grad_fn=<UnsqueezeBackward0>), tensor([42.4678], device='cuda:0', grad_fn=<UnsqueezeBackward0>), tensor([43.4223], device='cuda:0', grad_fn=<UnsqueezeBackward0>), tensor([40.5936], device='cuda:0', grad_fn=<UnsqueezeBackward0>), tensor([45.2078], device='cuda:0', grad_fn=<UnsqueezeBackward0>), tensor([42.2069], device='cuda:0', grad_fn=<UnsqueezeBackward0>), tensor([39.9635], device='cuda:0', grad_fn=<UnsqueezeBackward0>), tensor([40.1922], device='cuda:0', grad_fn=<UnsqueezeBackward0>), tensor([39.8617], device='cuda:0', grad_fn=<UnsqueezeBackward0>), tensor([42.9920], device='cuda:0', grad_fn=<UnsqueezeBackward0>), tensor([37.1349], device='cuda:0', grad_fn=<UnsqueezeBackward0>), tensor([42.3157], device='cuda:0', grad_fn=<UnsqueezeBackward0>), tensor([42.4309], device='cuda:0', grad_fn=<UnsqueezeBackward0>), tensor([40.8068], device='cuda:0', grad_fn=<UnsqueezeBackward0>), tensor([39.1555], device='cuda:0', grad_fn=<UnsqueezeBackward0>), tensor([38.2897], device='cuda:0', grad_fn=<UnsqueezeBackward0>), tensor([36.0049], device='cuda:0', grad_fn=<UnsqueezeBackward0>), tensor([38.9974], device='cuda:0', grad_fn=<UnsqueezeBackward0>), tensor([39.9129], device='cuda:0', grad_fn=<UnsqueezeBackward0>), tensor([44.3588], device='cuda:0', grad_fn=<UnsqueezeBackward0>), tensor([45.4875], device='cuda:0', grad_fn=<UnsqueezeBackward0>), tensor([40.8258], device='cuda:0', grad_fn=<UnsqueezeBackward0>), tensor([38.2241], device='cuda:0', grad_fn=<UnsqueezeBackward0>), tensor([37.9149], device='cuda:0', grad_fn=<UnsqueezeBackward0>), tensor([40.0580], device='cuda:0', grad_fn=<UnsqueezeBackward0>), tensor([40.0514], device='cuda:0', grad_fn=<UnsqueezeBackward0>), tensor([41.6240], device='cuda:0', grad_fn=<UnsqueezeBackward0>), tensor([35.9574], device='cuda:0', grad_fn=<UnsqueezeBackward0>), tensor([46.3645], device='cuda:0', grad_fn=<UnsqueezeBackward0>), tensor([37.0495], device='cuda:0', grad_fn=<UnsqueezeBackward0>), tensor([45.5578], device='cuda:0', grad_fn=<UnsqueezeBackward0>), tensor([48.8893], device='cuda:0', grad_fn=<UnsqueezeBackward0>), tensor([41.0368], device='cuda:0', grad_fn=<UnsqueezeBackward0>), tensor([45.8326], device='cuda:0', grad_fn=<UnsqueezeBackward0>), tensor([37.8108], device='cuda:0', grad_fn=<UnsqueezeBackward0>), tensor([39.7630], device='cuda:0', grad_fn=<UnsqueezeBackward0>), tensor([39.5110], device='cuda:0', grad_fn=<UnsqueezeBackward0>), tensor([40.7720], device='cuda:0', grad_fn=<UnsqueezeBackward0>), tensor([43.9784], device='cuda:0', grad_fn=<UnsqueezeBackward0>), tensor([34.5512], device='cuda:0', grad_fn=<UnsqueezeBackward0>), tensor([39.9422], device='cuda:0', grad_fn=<UnsqueezeBackward0>), tensor([40.7475], device='cuda:0', grad_fn=<UnsqueezeBackward0>), tensor([38.7699], device='cuda:0', grad_fn=<UnsqueezeBackward0>), tensor([45.9866], device='cuda:0', grad_fn=<UnsqueezeBackward0>), tensor([43.5568], device='cuda:0', grad_fn=<UnsqueezeBackward0>), tensor([33.4155], device='cuda:0', grad_fn=<UnsqueezeBackward0>), tensor([35.1842], device='cuda:0', grad_fn=<UnsqueezeBackward0>), tensor([40.3718], device='cuda:0', grad_fn=<UnsqueezeBackward0>), tensor([39.4863], device='cuda:0', grad_fn=<UnsqueezeBackward0>), tensor([43.0660], device='cuda:0', grad_fn=<UnsqueezeBackward0>), tensor([32.5489], device='cuda:0', grad_fn=<UnsqueezeBackward0>), tensor([38.5306], device='cuda:0', grad_fn=<UnsqueezeBackward0>), tensor([46.0287], device='cuda:0', grad_fn=<UnsqueezeBackward0>), tensor([39.4403], device='cuda:0', grad_fn=<UnsqueezeBackward0>), tensor([41.1770], device='cuda:0', grad_fn=<UnsqueezeBackward0>), tensor([36.8194], device='cuda:0', grad_fn=<UnsqueezeBackward0>), tensor([45.7394], device='cuda:0', grad_fn=<UnsqueezeBackward0>), tensor([40.4669], device='cuda:0', grad_fn=<UnsqueezeBackward0>), tensor([34.3948], device='cuda:0', grad_fn=<UnsqueezeBackward0>), tensor([39.8904], device='cuda:0', grad_fn=<UnsqueezeBackward0>), tensor([45.0489], device='cuda:0', grad_fn=<UnsqueezeBackward0>), tensor([37.0182], device='cuda:0', grad_fn=<UnsqueezeBackward0>), tensor([42.4687], device='cuda:0', grad_fn=<UnsqueezeBackward0>), tensor([44.5737], device='cuda:0', grad_fn=<UnsqueezeBackward0>), tensor([42.8380], device='cuda:0', grad_fn=<UnsqueezeBackward0>), tensor([41.4432], device='cuda:0', grad_fn=<UnsqueezeBackward0>), tensor([45.0975], device='cuda:0', grad_fn=<UnsqueezeBackward0>), tensor([44.7246], device='cuda:0', grad_fn=<UnsqueezeBackward0>), tensor([43.9873], device='cuda:0', grad_fn=<UnsqueezeBackward0>), tensor([42.7042], device='cuda:0', grad_fn=<UnsqueezeBackward0>), tensor([37.5519], device='cuda:0', grad_fn=<UnsqueezeBackward0>), tensor([41.3279], device='cuda:0', grad_fn=<UnsqueezeBackward0>), tensor([45.6415], device='cuda:0', grad_fn=<UnsqueezeBackward0>), tensor([40.5246], device='cuda:0', grad_fn=<UnsqueezeBackward0>), tensor([43.1016], device='cuda:0', grad_fn=<UnsqueezeBackward0>), tensor([35.0437], device='cuda:0', grad_fn=<UnsqueezeBackward0>), tensor([39.7716], device='cuda:0', grad_fn=<UnsqueezeBackward0>), tensor([45.5984], device='cuda:0', grad_fn=<UnsqueezeBackward0>), tensor([44.8622], device='cuda:0', grad_fn=<UnsqueezeBackward0>), tensor([38.8665], device='cuda:0', grad_fn=<UnsqueezeBackward0>), tensor([43.1489], device='cuda:0', grad_fn=<UnsqueezeBackward0>), tensor([42.5779], device='cuda:0', grad_fn=<UnsqueezeBackward0>), tensor([39.4178], device='cuda:0', grad_fn=<UnsqueezeBackward0>), tensor([39.6471], device='cuda:0', grad_fn=<UnsqueezeBackward0>), tensor([37.7384], device='cuda:0', grad_fn=<UnsqueezeBackward0>), tensor([42.8743], device='cuda:0', grad_fn=<UnsqueezeBackward0>), tensor([42.3459], device='cuda:0', grad_fn=<UnsqueezeBackward0>), tensor([43.6850], device='cuda:0', grad_fn=<UnsqueezeBackward0>), tensor([42.9733], device='cuda:0', grad_fn=<UnsqueezeBackward0>), tensor([43.8861], device='cuda:0', grad_fn=<UnsqueezeBackward0>), tensor([44.3936], device='cuda:0', grad_fn=<UnsqueezeBackward0>), tensor([40.8046], device='cuda:0', grad_fn=<UnsqueezeBackward0>), tensor([41.7033], device='cuda:0', grad_fn=<UnsqueezeBackward0>), tensor([36.7106], device='cuda:0', grad_fn=<UnsqueezeBackward0>), tensor([40.6510], device='cuda:0', grad_fn=<UnsqueezeBackward0>), tensor([47.8588], device='cuda:0', grad_fn=<UnsqueezeBackward0>), tensor([37.0922], device='cuda:0', grad_fn=<UnsqueezeBackward0>), tensor([37.8777], device='cuda:0', grad_fn=<UnsqueezeBackward0>), tensor([39.3095], device='cuda:0', grad_fn=<UnsqueezeBackward0>), tensor([39.0056], device='cuda:0', grad_fn=<UnsqueezeBackward0>), tensor([43.1331], device='cuda:0', grad_fn=<UnsqueezeBackward0>), tensor([42.1924], device='cuda:0', grad_fn=<UnsqueezeBackward0>), tensor([37.5517], device='cuda:0', grad_fn=<UnsqueezeBackward0>), tensor([43.0752], device='cuda:0', grad_fn=<UnsqueezeBackward0>), tensor([46.0547], device='cuda:0', grad_fn=<UnsqueezeBackward0>), tensor([39.6666], device='cuda:0', grad_fn=<UnsqueezeBackward0>), tensor([47.2004], device='cuda:0', grad_fn=<UnsqueezeBackward0>), tensor([11.3034], device='cuda:0', grad_fn=<UnsqueezeBackward0>)]\n"
     ]
    },
    {
     "data": {
      "text/plain": [
       "tensor(6376.8823, device='cuda:0', grad_fn=<SumBackward0>)"
      ]
     },
     "execution_count": 16,
     "metadata": {},
     "output_type": "execute_result"
    }
   ],
   "source": [
    "test_IM(test_loader, distiller.get_student())"
   ]
  }
 ],
 "metadata": {
  "kernelspec": {
   "display_name": "Python 3",
   "language": "python",
   "name": "python3"
  },
  "language_info": {
   "codemirror_mode": {
    "name": "ipython",
    "version": 3
   },
   "file_extension": ".py",
   "mimetype": "text/x-python",
   "name": "python",
   "nbconvert_exporter": "python",
   "pygments_lexer": "ipython3",
   "version": "3.10.6"
  }
 },
 "nbformat": 4,
 "nbformat_minor": 2
}
