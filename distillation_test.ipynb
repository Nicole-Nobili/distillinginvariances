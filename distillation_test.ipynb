{
 "cells": [
  {
   "cell_type": "code",
   "execution_count": 1,
   "metadata": {},
   "outputs": [],
   "source": [
    "import torch\n",
    "import torchvision\n",
    "import torchvision.transforms as transforms\n",
    "from torch.utils.data import DataLoader\n",
    "from models.cnn import SimpleCNN, LeNet"
   ]
  },
  {
   "cell_type": "code",
   "execution_count": 2,
   "metadata": {},
   "outputs": [],
   "source": [
    "in_channels = 1\n",
    "num_classes = 10\n",
    "num_conv_layers = 2\n",
    "temperature = 1\n",
    "num_epochs = 10\n",
    "batch_size = 64\n",
    "lr = 0.001\n",
    "save_path_folder = 'saved_models/model'"
   ]
  },
  {
   "cell_type": "code",
   "execution_count": null,
   "metadata": {},
   "outputs": [],
   "source": [
    "#Load CNN\n",
    "model = SimpleCNN(in_channels=in_channels, num_classes=num_classes, num_conv_layers=num_conv_layers, temperature=temperature).to('cuda:0')\n",
    "criterion = torch.nn.CrossEntropyLoss()\n",
    "optimizer = torch.optim.Adam(model.parameters(), lr=lr)"
   ]
  },
  {
   "cell_type": "code",
   "execution_count": 3,
   "metadata": {},
   "outputs": [],
   "source": [
    "# MNIST dataset\n",
    "transform = transforms.Compose([transforms.ToTensor(), transforms.Normalize((0.5,), (0.5,))])\n",
    "train_dataset = torchvision.datasets.MNIST(root='./data', train=True, transform=transform, download=True)\n",
    "test_dataset = torchvision.datasets.MNIST(root='./data', train=False, transform=transform, download=True)\n",
    "\n",
    "train_loader = DataLoader(dataset=train_dataset, batch_size=batch_size, shuffle=True)\n",
    "test_loader = DataLoader(dataset=test_dataset, batch_size=batch_size, shuffle=False)"
   ]
  },
  {
   "cell_type": "code",
   "execution_count": null,
   "metadata": {},
   "outputs": [],
   "source": [
    "# model training\n",
    "for epoch in range(num_epochs):\n",
    "    for i, (images, labels) in enumerate(train_loader):\n",
    "        outputs = model(images.to('cuda'))\n",
    "        loss = criterion(outputs, labels.to('cuda'))\n",
    "\n",
    "        optimizer.zero_grad()\n",
    "        loss.backward()\n",
    "        optimizer.step()\n",
    "\n",
    "        if (i + 1) % 100 == 0:\n",
    "            print(f'Epoch [{epoch+1}/{num_epochs}], Step [{i+1}/{len(train_loader)}], Loss: {loss.item():.4f}')\n",
    "# Save the trained model\n",
    "torch.save(model.state_dict(), save_path_folder)\n",
    "print(f\"Model saved as {save_path_folder}!\")"
   ]
  },
  {
   "cell_type": "code",
   "execution_count": null,
   "metadata": {},
   "outputs": [],
   "source": [
    "torch.save(model.state_dict(), 'saved_models/model')"
   ]
  },
  {
   "cell_type": "code",
   "execution_count": null,
   "metadata": {},
   "outputs": [],
   "source": [
    "state_dict = torch.load(save_path_folder)\n",
    "model = SimpleCNN(in_channels=in_channels, num_classes=num_classes, num_conv_layers=num_conv_layers, temperature=temperature).to('cuda:0')\n",
    "model.load_state_dict(state_dict=state_dict)"
   ]
  },
  {
   "cell_type": "code",
   "execution_count": null,
   "metadata": {},
   "outputs": [],
   "source": [
    "# Testing the model\n",
    "model.eval()\n",
    "with torch.no_grad():\n",
    "    correct = 0\n",
    "    total = 0\n",
    "    for images, labels in test_loader:\n",
    "        outputs = model(images.to('cuda'))\n",
    "        _, predicted = torch.max(outputs.data, 1)\n",
    "        total += labels.size(0)\n",
    "        correct += (predicted == labels.to('cuda')).sum().item()\n",
    "\n",
    "    accuracy = correct / total\n",
    "    print(f'Test Accuracy: {accuracy:.4f}')"
   ]
  },
  {
   "cell_type": "code",
   "execution_count": null,
   "metadata": {},
   "outputs": [],
   "source": [
    "# MNIST dataset\n",
    "transform = transforms.Compose([transforms.ToTensor(), transforms.Normalize((0.5,), (0.5,)), transforms.Lambda(lambda x: x.view(-1))])\n",
    "train_dataset = torchvision.datasets.MNIST(root='./data', train=True, transform=transform, download=True)\n",
    "test_dataset = torchvision.datasets.MNIST(root='./data', train=False, transform=transform, download=True)\n",
    "\n",
    "train_loader = DataLoader(dataset=train_dataset, batch_size=batch_size, shuffle=True)\n",
    "test_loader = DataLoader(dataset=test_dataset, batch_size=batch_size, shuffle=False)"
   ]
  },
  {
   "cell_type": "code",
   "execution_count": 3,
   "metadata": {},
   "outputs": [
    {
     "name": "stdout",
     "output_type": "stream",
     "text": [
      "Not using softmax\n"
     ]
    }
   ],
   "source": [
    "from models.mlp import MLP\n",
    "mlp = MLP(input_dim = 784, output_dim= num_classes, hidden_size= 2048, hidden_layers= 4, device='cuda')"
   ]
  },
  {
   "cell_type": "code",
   "execution_count": null,
   "metadata": {},
   "outputs": [],
   "source": [
    "for (im,lab) in train_loader:\n",
    "    print(im.shape)"
   ]
  },
  {
   "cell_type": "code",
   "execution_count": 12,
   "metadata": {},
   "outputs": [
    {
     "name": "stdout",
     "output_type": "stream",
     "text": [
      "Epoch [1/10], Step [100/938], Loss: 0.5841\n",
      "Epoch [1/10], Step [200/938], Loss: 0.5482\n",
      "Epoch [1/10], Step [300/938], Loss: 0.3348\n",
      "Epoch [1/10], Step [400/938], Loss: 0.3186\n",
      "Epoch [1/10], Step [500/938], Loss: 0.3854\n",
      "Epoch [1/10], Step [600/938], Loss: 0.1683\n",
      "Epoch [1/10], Step [700/938], Loss: 0.2387\n",
      "Epoch [1/10], Step [800/938], Loss: 0.2411\n",
      "Epoch [1/10], Step [900/938], Loss: 0.2360\n",
      "Epoch [2/10], Step [100/938], Loss: 0.0225\n",
      "Epoch [2/10], Step [200/938], Loss: 0.1381\n",
      "Epoch [2/10], Step [300/938], Loss: 0.3077\n",
      "Epoch [2/10], Step [400/938], Loss: 0.0668\n",
      "Epoch [2/10], Step [500/938], Loss: 0.1085\n",
      "Epoch [2/10], Step [600/938], Loss: 0.2506\n",
      "Epoch [2/10], Step [700/938], Loss: 0.3483\n",
      "Epoch [2/10], Step [800/938], Loss: 0.0506\n",
      "Epoch [2/10], Step [900/938], Loss: 0.2477\n",
      "Epoch [3/10], Step [100/938], Loss: 0.2222\n",
      "Epoch [3/10], Step [200/938], Loss: 0.2445\n",
      "Epoch [3/10], Step [300/938], Loss: 0.1772\n",
      "Epoch [3/10], Step [400/938], Loss: 0.0625\n",
      "Epoch [3/10], Step [500/938], Loss: 0.2393\n",
      "Epoch [3/10], Step [600/938], Loss: 0.2972\n",
      "Epoch [3/10], Step [700/938], Loss: 0.3022\n",
      "Epoch [3/10], Step [800/938], Loss: 0.1238\n",
      "Epoch [3/10], Step [900/938], Loss: 0.3785\n",
      "Epoch [4/10], Step [100/938], Loss: 0.0836\n",
      "Epoch [4/10], Step [200/938], Loss: 0.0664\n",
      "Epoch [4/10], Step [300/938], Loss: 0.0817\n",
      "Epoch [4/10], Step [400/938], Loss: 0.1327\n",
      "Epoch [4/10], Step [500/938], Loss: 0.1435\n",
      "Epoch [4/10], Step [600/938], Loss: 0.1578\n",
      "Epoch [4/10], Step [700/938], Loss: 0.0263\n",
      "Epoch [4/10], Step [800/938], Loss: 0.0720\n",
      "Epoch [4/10], Step [900/938], Loss: 0.1681\n",
      "Epoch [5/10], Step [100/938], Loss: 0.1279\n",
      "Epoch [5/10], Step [200/938], Loss: 0.2426\n",
      "Epoch [5/10], Step [300/938], Loss: 0.1161\n",
      "Epoch [5/10], Step [400/938], Loss: 0.1390\n",
      "Epoch [5/10], Step [500/938], Loss: 0.0710\n",
      "Epoch [5/10], Step [600/938], Loss: 0.0212\n",
      "Epoch [5/10], Step [700/938], Loss: 0.0439\n",
      "Epoch [5/10], Step [800/938], Loss: 0.2104\n",
      "Epoch [5/10], Step [900/938], Loss: 0.0190\n",
      "Epoch [6/10], Step [100/938], Loss: 0.0449\n",
      "Epoch [6/10], Step [200/938], Loss: 0.0605\n",
      "Epoch [6/10], Step [300/938], Loss: 0.0212\n",
      "Epoch [6/10], Step [400/938], Loss: 0.3936\n",
      "Epoch [6/10], Step [500/938], Loss: 0.0435\n",
      "Epoch [6/10], Step [600/938], Loss: 0.0723\n",
      "Epoch [6/10], Step [700/938], Loss: 0.0493\n",
      "Epoch [6/10], Step [800/938], Loss: 0.1211\n",
      "Epoch [6/10], Step [900/938], Loss: 0.1549\n",
      "Epoch [7/10], Step [100/938], Loss: 0.0870\n",
      "Epoch [7/10], Step [200/938], Loss: 0.0341\n",
      "Epoch [7/10], Step [300/938], Loss: 0.1519\n",
      "Epoch [7/10], Step [400/938], Loss: 0.0584\n",
      "Epoch [7/10], Step [500/938], Loss: 0.0700\n",
      "Epoch [7/10], Step [600/938], Loss: 0.0613\n",
      "Epoch [7/10], Step [700/938], Loss: 0.1492\n",
      "Epoch [7/10], Step [800/938], Loss: 0.0486\n",
      "Epoch [7/10], Step [900/938], Loss: 0.0334\n",
      "Epoch [8/10], Step [100/938], Loss: 0.1061\n",
      "Epoch [8/10], Step [200/938], Loss: 0.0361\n",
      "Epoch [8/10], Step [300/938], Loss: 0.0059\n",
      "Epoch [8/10], Step [400/938], Loss: 0.0798\n",
      "Epoch [8/10], Step [500/938], Loss: 0.1172\n",
      "Epoch [8/10], Step [600/938], Loss: 0.0037\n",
      "Epoch [8/10], Step [700/938], Loss: 0.0687\n",
      "Epoch [8/10], Step [800/938], Loss: 0.0508\n",
      "Epoch [8/10], Step [900/938], Loss: 0.0554\n",
      "Epoch [9/10], Step [100/938], Loss: 0.3300\n",
      "Epoch [9/10], Step [200/938], Loss: 0.4020\n",
      "Epoch [9/10], Step [300/938], Loss: 0.1156\n",
      "Epoch [9/10], Step [400/938], Loss: 0.0735\n",
      "Epoch [9/10], Step [500/938], Loss: 0.0926\n",
      "Epoch [9/10], Step [600/938], Loss: 0.0559\n",
      "Epoch [9/10], Step [700/938], Loss: 0.1860\n",
      "Epoch [9/10], Step [800/938], Loss: 0.0345\n",
      "Epoch [9/10], Step [900/938], Loss: 0.0185\n",
      "Epoch [10/10], Step [100/938], Loss: 0.0578\n",
      "Epoch [10/10], Step [200/938], Loss: 0.0350\n",
      "Epoch [10/10], Step [300/938], Loss: 0.0414\n",
      "Epoch [10/10], Step [400/938], Loss: 0.1332\n",
      "Epoch [10/10], Step [500/938], Loss: 0.0504\n",
      "Epoch [10/10], Step [600/938], Loss: 0.0119\n",
      "Epoch [10/10], Step [700/938], Loss: 0.0389\n",
      "Epoch [10/10], Step [800/938], Loss: 0.0737\n",
      "Epoch [10/10], Step [900/938], Loss: 0.0350\n",
      "Model saved as saved_models\\mlp!\n"
     ]
    }
   ],
   "source": [
    "criterion = torch.nn.CrossEntropyLoss()\n",
    "optimizer = torch.optim.Adam(mlp.parameters(), lr=lr)\n",
    "mlp.train(train_loader=train_loader, optimizer=optimizer, criterion=criterion, num_epochs=10)"
   ]
  },
  {
   "cell_type": "code",
   "execution_count": 13,
   "metadata": {},
   "outputs": [
    {
     "name": "stdout",
     "output_type": "stream",
     "text": [
      "a\n",
      "Test Accuracy: 0.9758\n"
     ]
    }
   ],
   "source": [
    "mlp.eval(test_loader=test_loader)"
   ]
  },
  {
   "cell_type": "code",
   "execution_count": null,
   "metadata": {},
   "outputs": [],
   "source": [
    "from models.mlp import MLP\n",
    "mlp = MLP(input_dim = 784, output_dim= num_classes, hidden_size= 2048, hidden_layers= 4, device='cuda', from_saved_state_dict=\"saved_models/mlp\")\n",
    "mlp.eval(test_loader=test_loader)"
   ]
  }
 ],
 "metadata": {
  "kernelspec": {
   "display_name": "Python 3",
   "language": "python",
   "name": "python3"
  },
  "language_info": {
   "codemirror_mode": {
    "name": "ipython",
    "version": 3
   },
   "file_extension": ".py",
   "mimetype": "text/x-python",
   "name": "python",
   "nbconvert_exporter": "python",
   "pygments_lexer": "ipython3",
   "version": "3.10.6"
  }
 },
 "nbformat": 4,
 "nbformat_minor": 2
}
