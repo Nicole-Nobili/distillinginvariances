{
 "cells": [
  {
   "cell_type": "code",
   "execution_count": null,
   "metadata": {},
   "outputs": [],
   "source": [
    "\"\"\"\n",
    "4 exp 4 temps\n",
    "\n",
    "self dist\n",
    "self dist shifted\n",
    "mlp vanilla\n",
    "cnn vanilla\n",
    "cnn mlp \n",
    "cnn stupider + mlp\n",
    "fidelity of mlp to t' cross fidelity wrt first cnn - 1 plot\n",
    "\n",
    "accuracy NLL ECE \n",
    "\n",
    "top1 agreement between teacher and student,\n",
    "KL divergence, invariance metric (crossentropy?) -> show patrick it's better\n",
    "\n",
    "FLOPS!!\n",
    "\"\"\""
   ]
  },
  {
   "cell_type": "code",
   "execution_count": 2,
   "metadata": {},
   "outputs": [
    {
     "ename": "ModuleNotFoundError",
     "evalue": "No module named 'deepspeed'",
     "output_type": "error",
     "traceback": [
      "\u001b[1;31m---------------------------------------------------------------------------\u001b[0m",
      "\u001b[1;31mModuleNotFoundError\u001b[0m                       Traceback (most recent call last)",
      "Input \u001b[1;32mIn [2]\u001b[0m, in \u001b[0;36m<cell line: 8>\u001b[1;34m()\u001b[0m\n\u001b[0;32m      6\u001b[0m \u001b[38;5;28;01mfrom\u001b[39;00m \u001b[38;5;21;01mmodels\u001b[39;00m\u001b[38;5;21;01m.\u001b[39;00m\u001b[38;5;21;01mcnn\u001b[39;00m \u001b[38;5;28;01mimport\u001b[39;00m SimpleCNN\n\u001b[0;32m      7\u001b[0m \u001b[38;5;28;01mfrom\u001b[39;00m \u001b[38;5;21;01mmodels\u001b[39;00m\u001b[38;5;21;01m.\u001b[39;00m\u001b[38;5;21;01mresnet\u001b[39;00m \u001b[38;5;28;01mimport\u001b[39;00m resnet18_mnist\n\u001b[1;32m----> 8\u001b[0m \u001b[38;5;28;01mfrom\u001b[39;00m \u001b[38;5;21;01mmodels\u001b[39;00m\u001b[38;5;21;01m.\u001b[39;00m\u001b[38;5;21;01mmlp\u001b[39;00m \u001b[38;5;28;01mimport\u001b[39;00m MLP\n\u001b[0;32m      9\u001b[0m \u001b[38;5;28;01mfrom\u001b[39;00m \u001b[38;5;21;01mdistillation_utils\u001b[39;00m \u001b[38;5;28;01mimport\u001b[39;00m Distiller\n\u001b[0;32m     10\u001b[0m \u001b[38;5;28;01mfrom\u001b[39;00m \u001b[38;5;21;01minvariances_utils\u001b[39;00m \u001b[38;5;28;01mimport\u001b[39;00m shift_preserving_shape, test_IM, validate\n",
      "File \u001b[1;32mc:\\Users\\dionys\\Documents\\Master\\HS23\\DL\\distillinginvariances\\distillinginvariances\\models\\mlp.py:5\u001b[0m, in \u001b[0;36m<module>\u001b[1;34m\u001b[0m\n\u001b[0;32m      3\u001b[0m \u001b[38;5;28;01mimport\u001b[39;00m \u001b[38;5;21;01mtorch\u001b[39;00m\u001b[38;5;21;01m.\u001b[39;00m\u001b[38;5;21;01mnn\u001b[39;00m \u001b[38;5;28;01mas\u001b[39;00m \u001b[38;5;21;01mnn\u001b[39;00m\n\u001b[0;32m      4\u001b[0m \u001b[38;5;28;01mimport\u001b[39;00m \u001b[38;5;21;01mtorch\u001b[39;00m\n\u001b[1;32m----> 5\u001b[0m \u001b[38;5;28;01mimport\u001b[39;00m \u001b[38;5;21;01mdeepspeed\u001b[39;00m\n\u001b[0;32m      8\u001b[0m \u001b[38;5;28;01mclass\u001b[39;00m \u001b[38;5;21;01mMLP\u001b[39;00m(nn\u001b[38;5;241m.\u001b[39mModule):\n\u001b[0;32m      9\u001b[0m     \u001b[38;5;28;01mdef\u001b[39;00m \u001b[38;5;21m__init__\u001b[39m(\n\u001b[0;32m     10\u001b[0m         \u001b[38;5;28mself\u001b[39m,\n\u001b[0;32m     11\u001b[0m         input_dim: \u001b[38;5;28mint\u001b[39m,\n\u001b[1;32m   (...)\u001b[0m\n\u001b[0;32m     17\u001b[0m         from_saved_state_dict: \u001b[38;5;28mstr\u001b[39m \u001b[38;5;241m=\u001b[39m \u001b[38;5;28;01mNone\u001b[39;00m,\n\u001b[0;32m     18\u001b[0m     ):\n",
      "\u001b[1;31mModuleNotFoundError\u001b[0m: No module named 'deepspeed'"
     ]
    }
   ],
   "source": [
    "#imports\n",
    "import torch\n",
    "import torchvision\n",
    "import torchvision.transforms as transforms\n",
    "from torch.utils.data import DataLoader\n",
    "from models.cnn import SimpleCNN\n",
    "from models.resnet import resnet18_mnist\n",
    "from models.mlp import MLP\n",
    "from distillation_utils import Distiller\n",
    "from invariances_utils import shift_preserving_shape, test_IM, validate\n",
    "import numpy as np\n",
    "from torch.utils.data import Dataset, DataLoader\n",
    "from torchvision import transforms\n",
    "import deepspeed"
   ]
  },
  {
   "cell_type": "code",
   "execution_count": null,
   "metadata": {},
   "outputs": [],
   "source": [
    "# in_channels = 1\n",
    "# num_conv_layers = 2\n",
    "num_epochs = 10\n",
    "num_classes = 10\n",
    "batch_size = 64\n",
    "lr = 0.001\n",
    "TRAIN = False\n",
    "device = 'cuda'\n",
    "temperature = 1"
   ]
  },
  {
   "cell_type": "code",
   "execution_count": 6,
   "metadata": {},
   "outputs": [],
   "source": [
    "# MNIST dataset\n",
    "\n",
    "# Define a custom dataset that combines MNIST and additional data\n",
    "class ShiftAugmentedMNIST(Dataset):\n",
    "    def __init__(self, mnist_dataset, translation_times : int = 5, max_shift : int = 5):\n",
    "        self.mnist_dataset = mnist_dataset\n",
    "        directions = [\"u\",\"d\",\"l\",\"r\"]\n",
    "        self.translations = []\n",
    "        for i in range(len(self.mnist_dataset)):\n",
    "            img, label = self.mnist_dataset[i]\n",
    "            img = img.squeeze()\n",
    "            for t in range(translation_times):\n",
    "                sh = shift_preserving_shape(img, direction=directions[np.random.randint(0,4)],\n",
    "                                            max_shift=max_shift).unsqueeze(0)\n",
    "                if sh is not None:\n",
    "                    self.translations.append((sh, label))\n",
    "\n",
    "    def __getitem__(self, index):\n",
    "        if index < len(self.mnist_dataset):\n",
    "            return self.mnist_dataset[index]\n",
    "        else:\n",
    "            return self.translations[index - len(self.mnist_dataset)]\n",
    "\n",
    "    def __len__(self):\n",
    "        return len(self.mnist_dataset) + len(self.translations)\n",
    "\n",
    "\n",
    "transform = transforms.Compose([transforms.ToTensor(), transforms.Normalize((0.5,), (0.5,))])\n",
    "train_dataset = torchvision.datasets.MNIST(root='./data', train=True, transform=transform, download=True)\n",
    "test_dataset = torchvision.datasets.MNIST(root='./data', train=False, transform=transform, download=True)\n",
    "\n",
    "train_loader = DataLoader(dataset=train_dataset, batch_size=batch_size, shuffle=True)\n",
    "test_loader = DataLoader(dataset=test_dataset, batch_size=batch_size, shuffle=False)\n",
    "\n",
    "train_augmented_dataset = ShiftAugmentedMNIST(train_dataset)\n",
    "train_augmented_loader = DataLoader(dataset=train_augmented_dataset, batch_size=batch_size, shuffle=True)"
   ]
  },
  {
   "cell_type": "markdown",
   "metadata": {},
   "source": [
    "Undistilled MLP"
   ]
  },
  {
   "cell_type": "code",
   "execution_count": 6,
   "metadata": {},
   "outputs": [
    {
     "name": "stdout",
     "output_type": "stream",
     "text": [
      "Not using softmax\n",
      "Correct normal: 0.9714\n",
      "Correct shifted: 0.2985\n",
      "\n",
      "accu: 0.97153664\n",
      "\n",
      "nlll: 0.10431392\n",
      "\n",
      "ecel: 0.03115510\n",
      "\n",
      "test_IM: 0.89523607\n",
      "\n"
     ]
    },
    {
     "data": {
      "text/plain": [
       "{'accu': 0.9715366363525391,\n",
       " 'nlll': 0.1043139174580574,\n",
       " 'ecel': 0.03115510381758213,\n",
       " 'test_IM': tensor(0.8952, device='cuda:0')}"
      ]
     },
     "execution_count": 6,
     "metadata": {},
     "output_type": "execute_result"
    },
    {
     "data": {
      "image/png": "[encoded data removed]",
      "text/plain": [
       "<Figure size 640x480 with 2 Axes>"
      ]
     },
     "metadata": {},
     "output_type": "display_data"
    }
   ],
   "source": [
    "#Loading undistilled MLP\n",
    "if TRAIN:\n",
    "    undistilled_mlp = MLP(input_dim = 784, output_dim= num_classes, hidden_size= 2048,\n",
    "        hidden_layers= 4, device='cuda')\n",
    "    criterion_mlp = torch.nn.CrossEntropyLoss()\n",
    "    optimizer_mlp = torch.optim.Adam(undistilled_mlp.parameters(), lr=lr)\n",
    "    undistilled_mlp.training_loop(train_loader=train_loader, optimizer=optimizer_mlp, criterion=criterion_mlp, \n",
    "              num_epochs=5, save_path_folder=\"saved_models_undistilled\")\n",
    "if not TRAIN:\n",
    "    undistilled_mlp = MLP(input_dim = 784, output_dim= num_classes, hidden_size= 2048,\n",
    "            hidden_layers= 4, device='cuda', from_saved_state_dict=\"saved_models_undistilled/mlp\")\n",
    "\n",
    "validate(model=undistilled_mlp, weights_file=\"saved_models_undistilled/mlp\", valid_data=test_loader, device=device, is_mlp= True)"
   ]
  },
  {
   "cell_type": "markdown",
   "metadata": {},
   "source": [
    "Undistilled MLP Augmented"
   ]
  },
  {
   "cell_type": "code",
   "execution_count": null,
   "metadata": {},
   "outputs": [],
   "source": [
    "#Loading undistilled MLP augmented\n",
    "if TRAIN:\n",
    "    undistilled_mlp = MLP(input_dim = 784, output_dim= num_classes, hidden_size= 2048,\n",
    "        hidden_layers= 4, device='cuda')\n",
    "    criterion_mlp = torch.nn.CrossEntropyLoss()\n",
    "    optimizer_mlp = torch.optim.Adam(undistilled_mlp.parameters(), lr=lr)\n",
    "    undistilled_mlp.training_loop(train_loader=train_augmented_loader, optimizer=optimizer_mlp, criterion=criterion_mlp, \n",
    "              num_epochs=5, save_path_folder=\"saved_models_undistilled_augmented\")\n",
    "if not TRAIN:\n",
    "    undistilled_mlp = MLP(input_dim = 784, output_dim= num_classes, hidden_size= 2048,\n",
    "            hidden_layers= 4, device='cuda', from_saved_state_dict=\"saved_models_undistilled_augmented/mlp\")\n",
    "\n",
    "validate(model=undistilled_mlp, weights_file=\"saved_models_undistilled_augmented/mlp\", valid_data=test_loader, device=device, is_mlp= True)"
   ]
  },
  {
   "cell_type": "markdown",
   "metadata": {},
   "source": [
    "CNN_1"
   ]
  },
  {
   "cell_type": "code",
   "execution_count": null,
   "metadata": {},
   "outputs": [],
   "source": [
    "#Obtaining CNN\n",
    "cnn_path = \"saved_cnn/model_1\"\n",
    "#cnn = SimpleCNN(in_channels=in_channels, num_classes=num_classes, num_conv_layers=num_conv_layers, temperature=temperature).to('cuda:0')\n",
    "cnn = resnet18_mnist().to(device)\n",
    "if TRAIN:\n",
    "    criterion_cnn = torch.nn.CrossEntropyLoss()\n",
    "    optimizer_cnn = torch.optim.Adam(cnn.parameters(), lr=lr)\n",
    "    # model training\n",
    "    prof = deepspeed.profiling.flops.profiler.FlopsProfiler(cnn)\n",
    "    profile_epoch = 0\n",
    "    for epoch in range(num_epochs):\n",
    "        if epoch == profile_epoch:\n",
    "            prof.start_profile()\n",
    "        for i, (images, labels) in enumerate(train_loader):\n",
    "            outputs = cnn(images.to(device))\n",
    "            loss = criterion_cnn(outputs, labels.to(device))\n",
    "\n",
    "            optimizer_cnn.zero_grad()\n",
    "            loss.backward()\n",
    "            optimizer_cnn.step()\n",
    "\n",
    "            if (i + 1) % 100 == 0:\n",
    "                print(f'Epoch [{epoch+1}/{num_epochs}], Step [{i+1}/{len(train_loader)}], Loss: {loss.item():.4f}')\n",
    "            if epoch == profile_epoch and i == 0:\n",
    "                prof.stop_profile()\n",
    "                flops = prof.get_total_flops()\n",
    "                prof.end_profile()\n",
    "    # Save the trained model\n",
    "    torch.save(cnn.state_dict(), cnn_path)\n",
    "    print(f\"Model saved as {cnn_path}!\")\n",
    "    print(\"Model flops: \", flops)\n",
    "if not TRAIN:\n",
    "    state_dict = torch.load(cnn_path)\n",
    "    cnn.load_state_dict(state_dict=state_dict)\n",
    "\n",
    "validate(model=undistilled_mlp, weights_file=cnn_path, valid_data=test_loader, device=device, is_mlp= False)\n"
   ]
  },
  {
   "cell_type": "markdown",
   "metadata": {},
   "source": [
    "CNN_2"
   ]
  },
  {
   "cell_type": "code",
   "execution_count": null,
   "metadata": {},
   "outputs": [],
   "source": [
    "# TODO: create second \"stupid\" cnn model (at the moment it is the same)\n",
    "#Obtaining CNN\n",
    "cnn_path = \"saved_cnn/model_2\"\n",
    "#cnn = SimpleCNN(in_channels=in_channels, num_classes=num_classes, num_conv_layers=num_conv_layers, temperature=temperature).to('cuda:0')\n",
    "cnn = resnet18_mnist().to(device)\n",
    "if TRAIN:\n",
    "    criterion_cnn = torch.nn.CrossEntropyLoss()\n",
    "    optimizer_cnn = torch.optim.Adam(cnn.parameters(), lr=lr)\n",
    "    # model training\n",
    "    prof = deepspeed.profiling.flops.profiler.FlopsProfiler(cnn)\n",
    "    profile_epoch = 0\n",
    "    for epoch in range(num_epochs):\n",
    "        if epoch == profile_epoch:\n",
    "            prof.start_profile()\n",
    "        for i, (images, labels) in enumerate(train_loader):\n",
    "            outputs = cnn(images.to(device))\n",
    "            loss = criterion_cnn(outputs, labels.to(device))\n",
    "\n",
    "            optimizer_cnn.zero_grad()\n",
    "            loss.backward()\n",
    "            optimizer_cnn.step()\n",
    "\n",
    "            if (i + 1) % 100 == 0:\n",
    "                print(f'Epoch [{epoch+1}/{num_epochs}], Step [{i+1}/{len(train_loader)}], Loss: {loss.item():.4f}')\n",
    "            if epoch == profile_epoch and i == 0:\n",
    "                prof.stop_profile()\n",
    "                flops = prof.get_total_flops()\n",
    "                prof.end_profile()\n",
    "    # Save the trained model\n",
    "    torch.save(cnn.state_dict(), cnn_path)\n",
    "    print(f\"Model saved as {cnn_path}!\")\n",
    "    print(\"Model flops: \", flops)\n",
    "if not TRAIN:\n",
    "    state_dict = torch.load(cnn_path)\n",
    "    cnn.load_state_dict(state_dict=state_dict)\n",
    "\n",
    "validate(model=undistilled_mlp, weights_file=cnn_path, valid_data=test_loader, device=device, is_mlp= False)\n"
   ]
  },
  {
   "cell_type": "markdown",
   "metadata": {},
   "source": [
    "Self distilling MLP "
   ]
  },
  {
   "cell_type": "code",
   "execution_count": null,
   "metadata": {},
   "outputs": [],
   "source": [
    "#Self distilling MLP (only from unshifted data)\n",
    "save_path_folder = \"saved_models_selfdistill_unshifted\"\n",
    "teacher_path = \"saved_models_undistilled/mlp\"\n",
    "#Self distillation: mlp_student and mlp teacher coincide #TODO CHECK\n",
    "mlp_student = MLP(input_dim = 784, output_dim= num_classes, hidden_size= 2048,\n",
    "            hidden_layers= 4, device=device)\n",
    "\n",
    "mlp_teacher = MLP(input_dim = 784, output_dim= num_classes, hidden_size= 2048,\n",
    "            hidden_layers= 4, device=device, from_saved_state_dict=teacher_path)\n",
    "\n",
    "if TRAIN:\n",
    "    selfdistiller = Distiller(student=mlp_student, teacher=mlp_teacher, device=device, lr=0.001)\n",
    "    selfdistiller.distill(train_loader, 5, save_path_folder) # TODO the model will not be saved in distill() or is it inherited??\n",
    "    # selfdistiller.test_step(test_loader=test_loader) TODO: there is not test_step method?\n",
    "    selfdistiller.compute_fidelity(test_loader)\n",
    "    validate(model=mlp_teacher, weights_file=teacher_path, valid_data=test_loader, device=device, is_mlp= True)\n",
    "    validate(model=mlp_student, weights_file=save_path_folder + 'distiller', valid_data=test_loader, device=device, is_mlp= True)\n",
    "if not TRAIN:\n",
    "    print(\"Loading params\")\n",
    "    selfdistiller = Distiller(student=mlp_student, teacher=mlp_teacher, device=device, lr=0.001,\n",
    "                        load_student_from_path = save_path_folder + 'distiller')\n",
    "    # selfdistiller.test_step(test_loader=test_loader) TODO: there is not test_step method?\n",
    "    selfdistiller.compute_fidelity(test_loader)\n",
    "    validate(model=mlp_teacher, weights_file=teacher_path, valid_data=test_loader, device=device, is_mlp= True)\n",
    "    validate(model=mlp_student, weights_file=save_path_folder + 'distiller', valid_data=test_loader, device=device, is_mlp= True)"
   ]
  },
  {
   "cell_type": "markdown",
   "metadata": {},
   "source": [
    "Self distilling MLP Augmented"
   ]
  },
  {
   "cell_type": "code",
   "execution_count": null,
   "metadata": {},
   "outputs": [],
   "source": [
    "#Self distilling MLP (augmented)\n",
    "# TODO: Do we use train_loader or train_augmented_loader in distill?\n",
    "save_path_folder = \"saved_models_selfdistill_augmented\"\n",
    "teacher_path = \"saved_models_undistilled_augmented/mlp\"\n",
    "#Self distillation: mlp_student and mlp teacher coincide #TODO CHECK\n",
    "mlp_student = MLP(input_dim = 784, output_dim= num_classes, hidden_size= 2048,\n",
    "            hidden_layers= 4, device=device)\n",
    "\n",
    "mlp_teacher = MLP(input_dim = 784, output_dim= num_classes, hidden_size= 2048,\n",
    "            hidden_layers= 4, device=device, from_saved_state_dict=teacher_path)\n",
    "\n",
    "if TRAIN:\n",
    "    selfdistiller = Distiller(student=mlp_student, teacher=mlp_teacher, device=device, lr=0.001)\n",
    "    selfdistiller.distill(train_loader, 5, save_path_folder) # TODO the model is not saved in distill() or is it inherited??\n",
    "    # selfdistiller.test_step(test_loader=test_loader) TODO: there is not test_step method?\n",
    "    selfdistiller.compute_fidelity(test_loader)\n",
    "    validate(model=mlp_teacher, weights_file=teacher_path, valid_data=test_loader, device=device, is_mlp= True)\n",
    "    validate(model=mlp_student, weights_file=save_path_folder + 'distiller', valid_data=test_loader, device=device, is_mlp= True)\n",
    "if not TRAIN:\n",
    "    print(\"Loading params\")\n",
    "    selfdistiller = Distiller(student=mlp_student, teacher=mlp_teacher, device=device, lr=0.001,\n",
    "                        load_student_from_path = save_path_folder + 'distiller')\n",
    "    # selfdistiller.test_step(test_loader=test_loader) TODO: there is not test_step method?\n",
    "    selfdistiller.compute_fidelity(test_loader)\n",
    "    validate(model=mlp_teacher, weights_file=teacher_path, valid_data=test_loader, device=device, is_mlp= True)\n",
    "    validate(model=mlp_student, weights_file=save_path_folder + 'distiller', valid_data=test_loader, device=device, is_mlp= True)"
   ]
  },
  {
   "cell_type": "markdown",
   "metadata": {},
   "source": [
    "Distilling CNN_1 -> MLP_1 \n",
    "\n",
    "Distilling CNN_2 -> MLP_2"
   ]
  },
  {
   "cell_type": "code",
   "execution_count": null,
   "metadata": {},
   "outputs": [],
   "source": [
    "#Distilling CNN to MLP\n",
    "save_path_folder_1 = \"saved_models_distill_cnn1_to_mlp1\"\n",
    "save_path_folder_2 = \"saved_models_distill_cnn2_to_mlp2\"\n",
    "teacher_path_1 = \"saved_cnn/model_1\"\n",
    "teacher_path_2 = \"saved_cnn/model_2\"\n",
    "\n",
    "mlp_student_1 = MLP(input_dim = 784, output_dim= num_classes, hidden_size= 2048,\n",
    "            hidden_layers= 4, device=device)\n",
    "\n",
    "mlp_student_2 = MLP(input_dim = 784, output_dim= num_classes, hidden_size= 2048,\n",
    "            hidden_layers= 4, device=device)\n",
    "\n",
    "mlp_teacher_1 = resnet18_mnist(from_saved_state_dict=teacher_path_1).to(device)\n",
    "\n",
    "#TODO: use different architecture than mlp_teacher_1 (at the moment it is the same)\n",
    "mlp_teacher_2 = resnet18_mnist(from_saved_state_dict=teacher_path_2).to(device)\n",
    "\n",
    "if TRAIN:\n",
    "    selfdistiller = Distiller(student=mlp_student_1, teacher=mlp_teacher_1, device=device, lr=0.001)\n",
    "    selfdistiller.distill(train_loader, 5, save_path_folder) # TODO the model is not saved in distill() or is it inherited??\n",
    "    selfdistiller.compute_fidelity(test_loader)\n",
    "    validate(model=mlp_teacher_1, weights_file=teacher_path_1, valid_data=test_loader, device=device, is_mlp= False)\n",
    "    validate(model=mlp_student_1, weights_file=save_path_folder_1 + 'distiller', valid_data=test_loader, device=device, is_mlp= True)\n",
    "\n",
    "    selfdistiller = Distiller(student=mlp_student_2, teacher=mlp_teacher_2, device=device, lr=0.001)\n",
    "    selfdistiller.distill(train_loader, 5, save_path_folder) # TODO the model is not saved in distill() or is it inherited??\n",
    "    selfdistiller.compute_fidelity(test_loader)\n",
    "    validate(model=mlp_teacher_2, weights_file=teacher_path_2, valid_data=test_loader, device=device, is_mlp= False)\n",
    "    validate(model=mlp_student_2, weights_file=save_path_folder_2 + 'distiller', valid_data=test_loader, device=device, is_mlp= True)\n",
    "\n",
    "    selfdistiller = Distiller(student=mlp_student_2, teacher=mlp_teacher_1, device=device, lr=0.001,\n",
    "                        load_student_from_path = save_path_folder_2 + 'distiller')\n",
    "    selfdistiller.compute_fidelity(test_loader) # compute fidelity of mlp2 and teacher1\n",
    "if not TRAIN:\n",
    "    print(\"Loading params\")\n",
    "    selfdistiller = Distiller(student=mlp_student_1, teacher=mlp_teacher_1, device=device, lr=0.001,\n",
    "                        load_student_from_path = save_path_folder_1 + 'distiller')\n",
    "    selfdistiller.compute_fidelity(test_loader)\n",
    "    validate(model=mlp_teacher_1, weights_file=teacher_path_1, valid_data=test_loader, device=device, is_mlp= False)\n",
    "    validate(model=mlp_student_1, weights_file=save_path_folder_1 + 'distiller', valid_data=test_loader, device=device, is_mlp= True)\n",
    "\n",
    "    selfdistiller = Distiller(student=mlp_student_2, teacher=mlp_teacher_2, device=device, lr=0.001,\n",
    "                        load_student_from_path = save_path_folder_2 + 'distiller')\n",
    "    selfdistiller.compute_fidelity(test_loader)\n",
    "    validate(model=mlp_teacher_2, weights_file=teacher_path_2, valid_data=test_loader, device=device, is_mlp= False)\n",
    "    validate(model=mlp_student_2, weights_file=save_path_folder_2 + 'distiller', valid_data=test_loader, device=device, is_mlp= True)\n",
    "\n",
    "    selfdistiller = Distiller(student=mlp_student_2, teacher=mlp_teacher_1, device=device, lr=0.001,\n",
    "                        load_student_from_path = save_path_folder_2 + 'distiller')\n",
    "    selfdistiller.compute_fidelity(test_loader) # compute fidelity of mlp2 and teacher1"
   ]
  }
 ],
 "metadata": {
  "kernelspec": {
   "display_name": "Python 3",
   "language": "python",
   "name": "python3"
  },
  "language_info": {
   "codemirror_mode": {
    "name": "ipython",
    "version": 3
   },
   "file_extension": ".py",
   "mimetype": "text/x-python",
   "name": "python",
   "nbconvert_exporter": "python",
   "pygments_lexer": "ipython3",
   "version": "3.10.11"
  }
 },
 "nbformat": 4,
 "nbformat_minor": 2
}
